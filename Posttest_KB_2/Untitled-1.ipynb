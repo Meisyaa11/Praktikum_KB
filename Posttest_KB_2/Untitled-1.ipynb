{
 "cells": [
  {
   "cell_type": "code",
   "execution_count": 183,
   "metadata": {},
   "outputs": [],
   "source": [
    "import pandas as pd\n",
    "dataFrame=pd.read_csv('Airline Dataset.csv')"
   ]
  },
  {
   "cell_type": "markdown",
   "metadata": {},
   "source": [
    "1. Tampilkan rata-rata, standar diviasi, nlai minimum, nilai maksimum, Q1, Q2, dan Q3 dari attribute bertipe angka"
   ]
  },
  {
   "cell_type": "markdown",
   "metadata": {},
   "source": [
    "Untuk menampilkannya kita bisa menggunakan command .describe()"
   ]
  },
  {
   "cell_type": "code",
   "execution_count": 184,
   "metadata": {},
   "outputs": [
    {
     "data": {
      "text/html": [
       "<div>\n",
       "<style scoped>\n",
       "    .dataframe tbody tr th:only-of-type {\n",
       "        vertical-align: middle;\n",
       "    }\n",
       "\n",
       "    .dataframe tbody tr th {\n",
       "        vertical-align: top;\n",
       "    }\n",
       "\n",
       "    .dataframe thead th {\n",
       "        text-align: right;\n",
       "    }\n",
       "</style>\n",
       "<table border=\"1\" class=\"dataframe\">\n",
       "  <thead>\n",
       "    <tr style=\"text-align: right;\">\n",
       "      <th></th>\n",
       "      <th>Passenger ID</th>\n",
       "      <th>Age</th>\n",
       "    </tr>\n",
       "  </thead>\n",
       "  <tbody>\n",
       "    <tr>\n",
       "      <th>count</th>\n",
       "      <td>98619.000000</td>\n",
       "      <td>98619.000000</td>\n",
       "    </tr>\n",
       "    <tr>\n",
       "      <th>mean</th>\n",
       "      <td>55168.689522</td>\n",
       "      <td>45.504021</td>\n",
       "    </tr>\n",
       "    <tr>\n",
       "      <th>std</th>\n",
       "      <td>25985.443696</td>\n",
       "      <td>25.929849</td>\n",
       "    </tr>\n",
       "    <tr>\n",
       "      <th>min</th>\n",
       "      <td>10000.000000</td>\n",
       "      <td>1.000000</td>\n",
       "    </tr>\n",
       "    <tr>\n",
       "      <th>25%</th>\n",
       "      <td>32608.000000</td>\n",
       "      <td>23.000000</td>\n",
       "    </tr>\n",
       "    <tr>\n",
       "      <th>50%</th>\n",
       "      <td>55338.000000</td>\n",
       "      <td>46.000000</td>\n",
       "    </tr>\n",
       "    <tr>\n",
       "      <th>75%</th>\n",
       "      <td>77695.000000</td>\n",
       "      <td>68.000000</td>\n",
       "    </tr>\n",
       "    <tr>\n",
       "      <th>max</th>\n",
       "      <td>99999.000000</td>\n",
       "      <td>90.000000</td>\n",
       "    </tr>\n",
       "  </tbody>\n",
       "</table>\n",
       "</div>"
      ],
      "text/plain": [
       "       Passenger ID           Age\n",
       "count  98619.000000  98619.000000\n",
       "mean   55168.689522     45.504021\n",
       "std    25985.443696     25.929849\n",
       "min    10000.000000      1.000000\n",
       "25%    32608.000000     23.000000\n",
       "50%    55338.000000     46.000000\n",
       "75%    77695.000000     68.000000\n",
       "max    99999.000000     90.000000"
      ]
     },
     "execution_count": 184,
     "metadata": {},
     "output_type": "execute_result"
    }
   ],
   "source": [
    "dataFrame.describe()"
   ]
  },
  {
   "cell_type": "markdown",
   "metadata": {},
   "source": [
    "2. Tampilkan 10 record pertama dari dataset dengan attribute bertipe angka"
   ]
  },
  {
   "cell_type": "markdown",
   "metadata": {},
   "source": [
    "Filter hanya kolom yang bertipe data numerik saja yang akan ditampilkan"
   ]
  },
  {
   "cell_type": "code",
   "execution_count": 185,
   "metadata": {},
   "outputs": [],
   "source": [
    "kolom_numerik = dataFrame.select_dtypes(include=[int])\n"
   ]
  },
  {
   "cell_type": "markdown",
   "metadata": {},
   "source": [
    "Data yang sudah di filter,  kita beri commad .head() untuk menampilkan data teratas dan beri parameter 10 karna yang mau ditampilkan adalah 10 data teratas"
   ]
  },
  {
   "cell_type": "code",
   "execution_count": 186,
   "metadata": {},
   "outputs": [
    {
     "data": {
      "text/html": [
       "<div>\n",
       "<style scoped>\n",
       "    .dataframe tbody tr th:only-of-type {\n",
       "        vertical-align: middle;\n",
       "    }\n",
       "\n",
       "    .dataframe tbody tr th {\n",
       "        vertical-align: top;\n",
       "    }\n",
       "\n",
       "    .dataframe thead th {\n",
       "        text-align: right;\n",
       "    }\n",
       "</style>\n",
       "<table border=\"1\" class=\"dataframe\">\n",
       "  <thead>\n",
       "    <tr style=\"text-align: right;\">\n",
       "      <th></th>\n",
       "      <th>Passenger ID</th>\n",
       "      <th>Age</th>\n",
       "    </tr>\n",
       "  </thead>\n",
       "  <tbody>\n",
       "    <tr>\n",
       "      <th>0</th>\n",
       "      <td>10856</td>\n",
       "      <td>62</td>\n",
       "    </tr>\n",
       "    <tr>\n",
       "      <th>1</th>\n",
       "      <td>43872</td>\n",
       "      <td>62</td>\n",
       "    </tr>\n",
       "    <tr>\n",
       "      <th>2</th>\n",
       "      <td>42633</td>\n",
       "      <td>67</td>\n",
       "    </tr>\n",
       "    <tr>\n",
       "      <th>3</th>\n",
       "      <td>78493</td>\n",
       "      <td>71</td>\n",
       "    </tr>\n",
       "    <tr>\n",
       "      <th>4</th>\n",
       "      <td>82072</td>\n",
       "      <td>21</td>\n",
       "    </tr>\n",
       "    <tr>\n",
       "      <th>5</th>\n",
       "      <td>39630</td>\n",
       "      <td>55</td>\n",
       "    </tr>\n",
       "    <tr>\n",
       "      <th>6</th>\n",
       "      <td>11940</td>\n",
       "      <td>73</td>\n",
       "    </tr>\n",
       "    <tr>\n",
       "      <th>7</th>\n",
       "      <td>26470</td>\n",
       "      <td>36</td>\n",
       "    </tr>\n",
       "    <tr>\n",
       "      <th>8</th>\n",
       "      <td>29447</td>\n",
       "      <td>35</td>\n",
       "    </tr>\n",
       "    <tr>\n",
       "      <th>9</th>\n",
       "      <td>75035</td>\n",
       "      <td>13</td>\n",
       "    </tr>\n",
       "  </tbody>\n",
       "</table>\n",
       "</div>"
      ],
      "text/plain": [
       "   Passenger ID  Age\n",
       "0         10856   62\n",
       "1         43872   62\n",
       "2         42633   67\n",
       "3         78493   71\n",
       "4         82072   21\n",
       "5         39630   55\n",
       "6         11940   73\n",
       "7         26470   36\n",
       "8         29447   35\n",
       "9         75035   13"
      ]
     },
     "execution_count": 186,
     "metadata": {},
     "output_type": "execute_result"
    }
   ],
   "source": [
    "kolom_numerik.head(10)"
   ]
  },
  {
   "cell_type": "markdown",
   "metadata": {},
   "source": [
    "3. Tampilkan informasi jumlah record, jumlah atribute, nama atribute, jumlah atribute dengan tipe angka. Masukkan informasi tersebut dalam dictionary dengan key sesuai nama informasinya. Tampilkan isi dari dictionary tersebut sebagus mungkin"
   ]
  },
  {
   "cell_type": "markdown",
   "metadata": {},
   "source": [
    "Menampilkan informasi tentang jumlah record dan jumlah atribut "
   ]
  },
  {
   "cell_type": "code",
   "execution_count": 187,
   "metadata": {},
   "outputs": [],
   "source": [
    "num_records, num_attributes = dataFrame.shape"
   ]
  },
  {
   "cell_type": "markdown",
   "metadata": {},
   "source": [
    "Menampilkan nama atribut"
   ]
  },
  {
   "cell_type": "code",
   "execution_count": 188,
   "metadata": {},
   "outputs": [],
   "source": [
    "attribute_names = dataFrame.columns.tolist()"
   ]
  },
  {
   "cell_type": "markdown",
   "metadata": {},
   "source": [
    "Menghitung jumlah atribut dengan tipa data angka "
   ]
  },
  {
   "cell_type": "code",
   "execution_count": 189,
   "metadata": {},
   "outputs": [],
   "source": [
    "numeric_attributes = dataFrame.select_dtypes(include=['number']).shape[1]"
   ]
  },
  {
   "cell_type": "markdown",
   "metadata": {},
   "source": [
    "Selanjutnya kita membuat dictionary dengan isi sesuai informasi yang sudah kita buat diatas"
   ]
  },
  {
   "cell_type": "code",
   "execution_count": 190,
   "metadata": {},
   "outputs": [],
   "source": [
    "info_dictionary = {\n",
    "    'Jumlah Record' : num_records,\n",
    "    'Jumlah Atribut' : num_attributes,\n",
    "    'Nama Atribut' : attribute_names,\n",
    "    'Jumlah Atribut Tipe Angka' : num_attributes\n",
    "}"
   ]
  },
  {
   "cell_type": "markdown",
   "metadata": {},
   "source": [
    "Agar saat dictionary ditampilkan terlihat lebih rapi kita menggunakan format dibawah ini"
   ]
  },
  {
   "cell_type": "code",
   "execution_count": 191,
   "metadata": {},
   "outputs": [
    {
     "name": "stdout",
     "output_type": "stream",
     "text": [
      "Jumlah Record:\n",
      " 98619\n",
      "Jumlah Atribut:\n",
      " 15\n",
      "Nama Atribut:\n",
      " - Passenger ID\n",
      " - First Name\n",
      " - Last Name\n",
      " - Gender\n",
      " - Age\n",
      " - Nationality\n",
      " - Airport Name\n",
      " - Airport Country Code\n",
      " - Country Name\n",
      " - Airport Continent\n",
      " - Continents\n",
      " - Departure Date\n",
      " - Arrival Airport\n",
      " - Pilot Name\n",
      " - Flight Status\n",
      "Jumlah Atribut Tipe Angka:\n",
      " 15\n"
     ]
    }
   ],
   "source": [
    "for key, value in info_dictionary.items():\n",
    "    print(f\"{key}:\")\n",
    "    if isinstance(value, list):\n",
    "        for item in value:\n",
    "            print(f\" - {item}\")\n",
    "    else:\n",
    "        print(f\" {value}\")"
   ]
  },
  {
   "cell_type": "markdown",
   "metadata": {},
   "source": [
    "4. Tampilkan nilai dataset pada baris dimulai dengan 3 digit NIM akhir hingga data terakhir dan kolom ke 4 hingga kolom terakhir menggunakan ke 2 metode slice"
   ]
  },
  {
   "cell_type": "markdown",
   "metadata": {},
   "source": [
    "Metode slice, yaitu loc dan iloc"
   ]
  },
  {
   "cell_type": "markdown",
   "metadata": {},
   "source": [
    "Menggunakan .iloc"
   ]
  },
  {
   "cell_type": "code",
   "execution_count": 216,
   "metadata": {},
   "outputs": [
    {
     "data": {
      "text/html": [
       "<div>\n",
       "<style scoped>\n",
       "    .dataframe tbody tr th:only-of-type {\n",
       "        vertical-align: middle;\n",
       "    }\n",
       "\n",
       "    .dataframe tbody tr th {\n",
       "        vertical-align: top;\n",
       "    }\n",
       "\n",
       "    .dataframe thead th {\n",
       "        text-align: right;\n",
       "    }\n",
       "</style>\n",
       "<table border=\"1\" class=\"dataframe\">\n",
       "  <thead>\n",
       "    <tr style=\"text-align: right;\">\n",
       "      <th></th>\n",
       "      <th>Gender</th>\n",
       "      <th>Age</th>\n",
       "      <th>Nationality</th>\n",
       "      <th>Airport Name</th>\n",
       "      <th>Airport Country Code</th>\n",
       "      <th>Country Name</th>\n",
       "      <th>Airport Continent</th>\n",
       "      <th>Continents</th>\n",
       "      <th>Departure Date</th>\n",
       "      <th>Arrival Airport</th>\n",
       "      <th>Pilot Name</th>\n",
       "      <th>Flight Status</th>\n",
       "    </tr>\n",
       "  </thead>\n",
       "  <tbody>\n",
       "    <tr>\n",
       "      <th>30</th>\n",
       "      <td>Female</td>\n",
       "      <td>14</td>\n",
       "      <td>China</td>\n",
       "      <td>Faleolo International Airport</td>\n",
       "      <td>WS</td>\n",
       "      <td>Samoa</td>\n",
       "      <td>OC</td>\n",
       "      <td>Oceania</td>\n",
       "      <td>7/22/2022</td>\n",
       "      <td>APW</td>\n",
       "      <td>Magdalen Claiden</td>\n",
       "      <td>Delayed</td>\n",
       "    </tr>\n",
       "    <tr>\n",
       "      <th>31</th>\n",
       "      <td>Female</td>\n",
       "      <td>58</td>\n",
       "      <td>Latvia</td>\n",
       "      <td>Gorge Harbour Seaplane Base</td>\n",
       "      <td>CA</td>\n",
       "      <td>Canada</td>\n",
       "      <td>NAM</td>\n",
       "      <td>North America</td>\n",
       "      <td>8/5/2022</td>\n",
       "      <td>YGE</td>\n",
       "      <td>Celina Boothebie</td>\n",
       "      <td>Cancelled</td>\n",
       "    </tr>\n",
       "    <tr>\n",
       "      <th>32</th>\n",
       "      <td>Male</td>\n",
       "      <td>19</td>\n",
       "      <td>Germany</td>\n",
       "      <td>Nesson Airport</td>\n",
       "      <td>NC</td>\n",
       "      <td>New Caledonia</td>\n",
       "      <td>OC</td>\n",
       "      <td>Oceania</td>\n",
       "      <td>3/25/2022</td>\n",
       "      <td>HLU</td>\n",
       "      <td>Murvyn Duff</td>\n",
       "      <td>Cancelled</td>\n",
       "    </tr>\n",
       "    <tr>\n",
       "      <th>33</th>\n",
       "      <td>Female</td>\n",
       "      <td>22</td>\n",
       "      <td>Czech Republic</td>\n",
       "      <td>Malabo Airport</td>\n",
       "      <td>GQ</td>\n",
       "      <td>Equatorial Guinea</td>\n",
       "      <td>AF</td>\n",
       "      <td>Africa</td>\n",
       "      <td>9/23/2022</td>\n",
       "      <td>SSG</td>\n",
       "      <td>Lyndsie Dyball</td>\n",
       "      <td>Delayed</td>\n",
       "    </tr>\n",
       "    <tr>\n",
       "      <th>34</th>\n",
       "      <td>Female</td>\n",
       "      <td>44</td>\n",
       "      <td>Ireland</td>\n",
       "      <td>Zahn's Airport</td>\n",
       "      <td>US</td>\n",
       "      <td>United States</td>\n",
       "      <td>NAM</td>\n",
       "      <td>North America</td>\n",
       "      <td>11/23/2022</td>\n",
       "      <td>AYZ</td>\n",
       "      <td>Ashlie Rotham</td>\n",
       "      <td>Delayed</td>\n",
       "    </tr>\n",
       "    <tr>\n",
       "      <th>...</th>\n",
       "      <td>...</td>\n",
       "      <td>...</td>\n",
       "      <td>...</td>\n",
       "      <td>...</td>\n",
       "      <td>...</td>\n",
       "      <td>...</td>\n",
       "      <td>...</td>\n",
       "      <td>...</td>\n",
       "      <td>...</td>\n",
       "      <td>...</td>\n",
       "      <td>...</td>\n",
       "      <td>...</td>\n",
       "    </tr>\n",
       "    <tr>\n",
       "      <th>98614</th>\n",
       "      <td>Male</td>\n",
       "      <td>85</td>\n",
       "      <td>China</td>\n",
       "      <td>Hasvik Airport</td>\n",
       "      <td>NO</td>\n",
       "      <td>Norway</td>\n",
       "      <td>EU</td>\n",
       "      <td>Europe</td>\n",
       "      <td>12/11/2022</td>\n",
       "      <td>HAA</td>\n",
       "      <td>Gareth Mugford</td>\n",
       "      <td>Cancelled</td>\n",
       "    </tr>\n",
       "    <tr>\n",
       "      <th>98615</th>\n",
       "      <td>Female</td>\n",
       "      <td>19</td>\n",
       "      <td>Russia</td>\n",
       "      <td>Ampampamena Airport</td>\n",
       "      <td>MG</td>\n",
       "      <td>Madagascar</td>\n",
       "      <td>AF</td>\n",
       "      <td>Africa</td>\n",
       "      <td>10/30/2022</td>\n",
       "      <td>IVA</td>\n",
       "      <td>Kasey Benedict</td>\n",
       "      <td>Cancelled</td>\n",
       "    </tr>\n",
       "    <tr>\n",
       "      <th>98616</th>\n",
       "      <td>Male</td>\n",
       "      <td>65</td>\n",
       "      <td>Indonesia</td>\n",
       "      <td>Albacete-Los Llanos Airport</td>\n",
       "      <td>ES</td>\n",
       "      <td>Spain</td>\n",
       "      <td>EU</td>\n",
       "      <td>Europe</td>\n",
       "      <td>9/10/2022</td>\n",
       "      <td>ABC</td>\n",
       "      <td>Darrin Lucken</td>\n",
       "      <td>On Time</td>\n",
       "    </tr>\n",
       "    <tr>\n",
       "      <th>98617</th>\n",
       "      <td>Female</td>\n",
       "      <td>34</td>\n",
       "      <td>China</td>\n",
       "      <td>Gagnoa Airport</td>\n",
       "      <td>CI</td>\n",
       "      <td>Côte d'Ivoire</td>\n",
       "      <td>AF</td>\n",
       "      <td>Africa</td>\n",
       "      <td>10/26/2022</td>\n",
       "      <td>GGN</td>\n",
       "      <td>Gayle Lievesley</td>\n",
       "      <td>Cancelled</td>\n",
       "    </tr>\n",
       "    <tr>\n",
       "      <th>98618</th>\n",
       "      <td>Female</td>\n",
       "      <td>10</td>\n",
       "      <td>Poland</td>\n",
       "      <td>Yoshkar-Ola Airport</td>\n",
       "      <td>RU</td>\n",
       "      <td>Russian Federation</td>\n",
       "      <td>EU</td>\n",
       "      <td>Europe</td>\n",
       "      <td>4/16/2022</td>\n",
       "      <td>JOK</td>\n",
       "      <td>Wilhelmine Touret</td>\n",
       "      <td>Delayed</td>\n",
       "    </tr>\n",
       "  </tbody>\n",
       "</table>\n",
       "<p>98589 rows × 12 columns</p>\n",
       "</div>"
      ],
      "text/plain": [
       "       Gender  Age     Nationality                   Airport Name  \\\n",
       "30     Female   14           China  Faleolo International Airport   \n",
       "31     Female   58          Latvia    Gorge Harbour Seaplane Base   \n",
       "32       Male   19         Germany                 Nesson Airport   \n",
       "33     Female   22  Czech Republic                 Malabo Airport   \n",
       "34     Female   44         Ireland                 Zahn's Airport   \n",
       "...       ...  ...             ...                            ...   \n",
       "98614    Male   85           China                 Hasvik Airport   \n",
       "98615  Female   19          Russia            Ampampamena Airport   \n",
       "98616    Male   65       Indonesia    Albacete-Los Llanos Airport   \n",
       "98617  Female   34           China                 Gagnoa Airport   \n",
       "98618  Female   10          Poland            Yoshkar-Ola Airport   \n",
       "\n",
       "      Airport Country Code        Country Name Airport Continent  \\\n",
       "30                      WS               Samoa                OC   \n",
       "31                      CA              Canada               NAM   \n",
       "32                      NC       New Caledonia                OC   \n",
       "33                      GQ   Equatorial Guinea                AF   \n",
       "34                      US       United States               NAM   \n",
       "...                    ...                 ...               ...   \n",
       "98614                   NO              Norway                EU   \n",
       "98615                   MG          Madagascar                AF   \n",
       "98616                   ES               Spain                EU   \n",
       "98617                   CI       Côte d'Ivoire                AF   \n",
       "98618                   RU  Russian Federation                EU   \n",
       "\n",
       "          Continents Departure Date Arrival Airport         Pilot Name  \\\n",
       "30           Oceania      7/22/2022             APW   Magdalen Claiden   \n",
       "31     North America       8/5/2022             YGE   Celina Boothebie   \n",
       "32           Oceania      3/25/2022             HLU        Murvyn Duff   \n",
       "33            Africa      9/23/2022             SSG     Lyndsie Dyball   \n",
       "34     North America     11/23/2022             AYZ      Ashlie Rotham   \n",
       "...              ...            ...             ...                ...   \n",
       "98614         Europe     12/11/2022             HAA     Gareth Mugford   \n",
       "98615         Africa     10/30/2022             IVA     Kasey Benedict   \n",
       "98616         Europe      9/10/2022             ABC      Darrin Lucken   \n",
       "98617         Africa     10/26/2022             GGN    Gayle Lievesley   \n",
       "98618         Europe      4/16/2022             JOK  Wilhelmine Touret   \n",
       "\n",
       "      Flight Status  \n",
       "30          Delayed  \n",
       "31        Cancelled  \n",
       "32        Cancelled  \n",
       "33          Delayed  \n",
       "34          Delayed  \n",
       "...             ...  \n",
       "98614     Cancelled  \n",
       "98615     Cancelled  \n",
       "98616       On Time  \n",
       "98617     Cancelled  \n",
       "98618       Delayed  \n",
       "\n",
       "[98589 rows x 12 columns]"
      ]
     },
     "execution_count": 216,
     "metadata": {},
     "output_type": "execute_result"
    }
   ],
   "source": [
    "dataFrame.iloc[30:, 3:]"
   ]
  },
  {
   "cell_type": "markdown",
   "metadata": {},
   "source": [
    "Menggunakan .loc"
   ]
  },
  {
   "cell_type": "code",
   "execution_count": 223,
   "metadata": {},
   "outputs": [
    {
     "data": {
      "text/html": [
       "<div>\n",
       "<style scoped>\n",
       "    .dataframe tbody tr th:only-of-type {\n",
       "        vertical-align: middle;\n",
       "    }\n",
       "\n",
       "    .dataframe tbody tr th {\n",
       "        vertical-align: top;\n",
       "    }\n",
       "\n",
       "    .dataframe thead th {\n",
       "        text-align: right;\n",
       "    }\n",
       "</style>\n",
       "<table border=\"1\" class=\"dataframe\">\n",
       "  <thead>\n",
       "    <tr style=\"text-align: right;\">\n",
       "      <th></th>\n",
       "      <th>Gender</th>\n",
       "      <th>Age</th>\n",
       "      <th>Nationality</th>\n",
       "      <th>Airport Name</th>\n",
       "      <th>Airport Country Code</th>\n",
       "      <th>Country Name</th>\n",
       "      <th>Airport Continent</th>\n",
       "      <th>Continents</th>\n",
       "      <th>Departure Date</th>\n",
       "      <th>Arrival Airport</th>\n",
       "      <th>Pilot Name</th>\n",
       "      <th>Flight Status</th>\n",
       "    </tr>\n",
       "  </thead>\n",
       "  <tbody>\n",
       "    <tr>\n",
       "      <th>30</th>\n",
       "      <td>Female</td>\n",
       "      <td>14</td>\n",
       "      <td>China</td>\n",
       "      <td>Faleolo International Airport</td>\n",
       "      <td>WS</td>\n",
       "      <td>Samoa</td>\n",
       "      <td>OC</td>\n",
       "      <td>Oceania</td>\n",
       "      <td>7/22/2022</td>\n",
       "      <td>APW</td>\n",
       "      <td>Magdalen Claiden</td>\n",
       "      <td>Delayed</td>\n",
       "    </tr>\n",
       "    <tr>\n",
       "      <th>31</th>\n",
       "      <td>Female</td>\n",
       "      <td>58</td>\n",
       "      <td>Latvia</td>\n",
       "      <td>Gorge Harbour Seaplane Base</td>\n",
       "      <td>CA</td>\n",
       "      <td>Canada</td>\n",
       "      <td>NAM</td>\n",
       "      <td>North America</td>\n",
       "      <td>8/5/2022</td>\n",
       "      <td>YGE</td>\n",
       "      <td>Celina Boothebie</td>\n",
       "      <td>Cancelled</td>\n",
       "    </tr>\n",
       "    <tr>\n",
       "      <th>32</th>\n",
       "      <td>Male</td>\n",
       "      <td>19</td>\n",
       "      <td>Germany</td>\n",
       "      <td>Nesson Airport</td>\n",
       "      <td>NC</td>\n",
       "      <td>New Caledonia</td>\n",
       "      <td>OC</td>\n",
       "      <td>Oceania</td>\n",
       "      <td>3/25/2022</td>\n",
       "      <td>HLU</td>\n",
       "      <td>Murvyn Duff</td>\n",
       "      <td>Cancelled</td>\n",
       "    </tr>\n",
       "    <tr>\n",
       "      <th>33</th>\n",
       "      <td>Female</td>\n",
       "      <td>22</td>\n",
       "      <td>Czech Republic</td>\n",
       "      <td>Malabo Airport</td>\n",
       "      <td>GQ</td>\n",
       "      <td>Equatorial Guinea</td>\n",
       "      <td>AF</td>\n",
       "      <td>Africa</td>\n",
       "      <td>9/23/2022</td>\n",
       "      <td>SSG</td>\n",
       "      <td>Lyndsie Dyball</td>\n",
       "      <td>Delayed</td>\n",
       "    </tr>\n",
       "    <tr>\n",
       "      <th>34</th>\n",
       "      <td>Female</td>\n",
       "      <td>44</td>\n",
       "      <td>Ireland</td>\n",
       "      <td>Zahn's Airport</td>\n",
       "      <td>US</td>\n",
       "      <td>United States</td>\n",
       "      <td>NAM</td>\n",
       "      <td>North America</td>\n",
       "      <td>11/23/2022</td>\n",
       "      <td>AYZ</td>\n",
       "      <td>Ashlie Rotham</td>\n",
       "      <td>Delayed</td>\n",
       "    </tr>\n",
       "    <tr>\n",
       "      <th>...</th>\n",
       "      <td>...</td>\n",
       "      <td>...</td>\n",
       "      <td>...</td>\n",
       "      <td>...</td>\n",
       "      <td>...</td>\n",
       "      <td>...</td>\n",
       "      <td>...</td>\n",
       "      <td>...</td>\n",
       "      <td>...</td>\n",
       "      <td>...</td>\n",
       "      <td>...</td>\n",
       "      <td>...</td>\n",
       "    </tr>\n",
       "    <tr>\n",
       "      <th>98614</th>\n",
       "      <td>Male</td>\n",
       "      <td>85</td>\n",
       "      <td>China</td>\n",
       "      <td>Hasvik Airport</td>\n",
       "      <td>NO</td>\n",
       "      <td>Norway</td>\n",
       "      <td>EU</td>\n",
       "      <td>Europe</td>\n",
       "      <td>12/11/2022</td>\n",
       "      <td>HAA</td>\n",
       "      <td>Gareth Mugford</td>\n",
       "      <td>Cancelled</td>\n",
       "    </tr>\n",
       "    <tr>\n",
       "      <th>98615</th>\n",
       "      <td>Female</td>\n",
       "      <td>19</td>\n",
       "      <td>Russia</td>\n",
       "      <td>Ampampamena Airport</td>\n",
       "      <td>MG</td>\n",
       "      <td>Madagascar</td>\n",
       "      <td>AF</td>\n",
       "      <td>Africa</td>\n",
       "      <td>10/30/2022</td>\n",
       "      <td>IVA</td>\n",
       "      <td>Kasey Benedict</td>\n",
       "      <td>Cancelled</td>\n",
       "    </tr>\n",
       "    <tr>\n",
       "      <th>98616</th>\n",
       "      <td>Male</td>\n",
       "      <td>65</td>\n",
       "      <td>Indonesia</td>\n",
       "      <td>Albacete-Los Llanos Airport</td>\n",
       "      <td>ES</td>\n",
       "      <td>Spain</td>\n",
       "      <td>EU</td>\n",
       "      <td>Europe</td>\n",
       "      <td>9/10/2022</td>\n",
       "      <td>ABC</td>\n",
       "      <td>Darrin Lucken</td>\n",
       "      <td>On Time</td>\n",
       "    </tr>\n",
       "    <tr>\n",
       "      <th>98617</th>\n",
       "      <td>Female</td>\n",
       "      <td>34</td>\n",
       "      <td>China</td>\n",
       "      <td>Gagnoa Airport</td>\n",
       "      <td>CI</td>\n",
       "      <td>Côte d'Ivoire</td>\n",
       "      <td>AF</td>\n",
       "      <td>Africa</td>\n",
       "      <td>10/26/2022</td>\n",
       "      <td>GGN</td>\n",
       "      <td>Gayle Lievesley</td>\n",
       "      <td>Cancelled</td>\n",
       "    </tr>\n",
       "    <tr>\n",
       "      <th>98618</th>\n",
       "      <td>Female</td>\n",
       "      <td>10</td>\n",
       "      <td>Poland</td>\n",
       "      <td>Yoshkar-Ola Airport</td>\n",
       "      <td>RU</td>\n",
       "      <td>Russian Federation</td>\n",
       "      <td>EU</td>\n",
       "      <td>Europe</td>\n",
       "      <td>4/16/2022</td>\n",
       "      <td>JOK</td>\n",
       "      <td>Wilhelmine Touret</td>\n",
       "      <td>Delayed</td>\n",
       "    </tr>\n",
       "  </tbody>\n",
       "</table>\n",
       "<p>98589 rows × 12 columns</p>\n",
       "</div>"
      ],
      "text/plain": [
       "       Gender  Age     Nationality                   Airport Name  \\\n",
       "30     Female   14           China  Faleolo International Airport   \n",
       "31     Female   58          Latvia    Gorge Harbour Seaplane Base   \n",
       "32       Male   19         Germany                 Nesson Airport   \n",
       "33     Female   22  Czech Republic                 Malabo Airport   \n",
       "34     Female   44         Ireland                 Zahn's Airport   \n",
       "...       ...  ...             ...                            ...   \n",
       "98614    Male   85           China                 Hasvik Airport   \n",
       "98615  Female   19          Russia            Ampampamena Airport   \n",
       "98616    Male   65       Indonesia    Albacete-Los Llanos Airport   \n",
       "98617  Female   34           China                 Gagnoa Airport   \n",
       "98618  Female   10          Poland            Yoshkar-Ola Airport   \n",
       "\n",
       "      Airport Country Code        Country Name Airport Continent  \\\n",
       "30                      WS               Samoa                OC   \n",
       "31                      CA              Canada               NAM   \n",
       "32                      NC       New Caledonia                OC   \n",
       "33                      GQ   Equatorial Guinea                AF   \n",
       "34                      US       United States               NAM   \n",
       "...                    ...                 ...               ...   \n",
       "98614                   NO              Norway                EU   \n",
       "98615                   MG          Madagascar                AF   \n",
       "98616                   ES               Spain                EU   \n",
       "98617                   CI       Côte d'Ivoire                AF   \n",
       "98618                   RU  Russian Federation                EU   \n",
       "\n",
       "          Continents Departure Date Arrival Airport         Pilot Name  \\\n",
       "30           Oceania      7/22/2022             APW   Magdalen Claiden   \n",
       "31     North America       8/5/2022             YGE   Celina Boothebie   \n",
       "32           Oceania      3/25/2022             HLU        Murvyn Duff   \n",
       "33            Africa      9/23/2022             SSG     Lyndsie Dyball   \n",
       "34     North America     11/23/2022             AYZ      Ashlie Rotham   \n",
       "...              ...            ...             ...                ...   \n",
       "98614         Europe     12/11/2022             HAA     Gareth Mugford   \n",
       "98615         Africa     10/30/2022             IVA     Kasey Benedict   \n",
       "98616         Europe      9/10/2022             ABC      Darrin Lucken   \n",
       "98617         Africa     10/26/2022             GGN    Gayle Lievesley   \n",
       "98618         Europe      4/16/2022             JOK  Wilhelmine Touret   \n",
       "\n",
       "      Flight Status  \n",
       "30          Delayed  \n",
       "31        Cancelled  \n",
       "32        Cancelled  \n",
       "33          Delayed  \n",
       "34          Delayed  \n",
       "...             ...  \n",
       "98614     Cancelled  \n",
       "98615     Cancelled  \n",
       "98616       On Time  \n",
       "98617     Cancelled  \n",
       "98618       Delayed  \n",
       "\n",
       "[98589 rows x 12 columns]"
      ]
     },
     "execution_count": 223,
     "metadata": {},
     "output_type": "execute_result"
    }
   ],
   "source": [
    "dataFrame.loc[30:, ['Gender', 'Age', 'Nationality', 'Airport Name', 'Airport Country Code', 'Country Name', 'Airport Continent', 'Continents', 'Departure Date', 'Arrival Airport', 'Pilot Name', 'Flight Status']]"
   ]
  },
  {
   "cell_type": "markdown",
   "metadata": {},
   "source": [
    "5. Tampilkan jumlah label dari semua attribute yang bernilai object"
   ]
  },
  {
   "cell_type": "markdown",
   "metadata": {},
   "source": [
    "Untuk menghitung jumlah label dalam atribut kita menggunakan .value_coounts()"
   ]
  },
  {
   "cell_type": "code",
   "execution_count": 194,
   "metadata": {},
   "outputs": [
    {
     "data": {
      "text/plain": [
       "Gale       37\n",
       "Brett      36\n",
       "Conny      35\n",
       "Gerrie     35\n",
       "Haleigh    35\n",
       "           ..\n",
       "Kalila      2\n",
       "Brina       2\n",
       "Maggy       2\n",
       "Nicolle     1\n",
       "Diann       1\n",
       "Name: First Name, Length: 8437, dtype: int64"
      ]
     },
     "execution_count": 194,
     "metadata": {},
     "output_type": "execute_result"
    }
   ],
   "source": [
    "dataFrame['First Name'].value_counts()"
   ]
  },
  {
   "cell_type": "code",
   "execution_count": 195,
   "metadata": {},
   "outputs": [
    {
     "data": {
      "text/plain": [
       "Dyball        17\n",
       "Capron        15\n",
       "Ducker        13\n",
       "Richfield     12\n",
       "Danaher       11\n",
       "              ..\n",
       "Orwell         1\n",
       "Scarff         1\n",
       "Stapleford     1\n",
       "Thurner        1\n",
       "Lucken         1\n",
       "Name: Last Name, Length: 41658, dtype: int64"
      ]
     },
     "execution_count": 195,
     "metadata": {},
     "output_type": "execute_result"
    }
   ],
   "source": [
    "dataFrame['Last Name'].value_counts()"
   ]
  },
  {
   "cell_type": "code",
   "execution_count": 196,
   "metadata": {},
   "outputs": [
    {
     "data": {
      "text/plain": [
       "Male      49598\n",
       "Female    49021\n",
       "Name: Gender, dtype: int64"
      ]
     },
     "execution_count": 196,
     "metadata": {},
     "output_type": "execute_result"
    }
   ],
   "source": [
    "dataFrame['Gender'].value_counts()"
   ]
  },
  {
   "cell_type": "code",
   "execution_count": 197,
   "metadata": {},
   "outputs": [
    {
     "data": {
      "text/plain": [
       "China                     18317\n",
       "Indonesia                 10559\n",
       "Russia                     5693\n",
       "Philippines                5239\n",
       "Brazil                     3791\n",
       "                          ...  \n",
       "Romania                       2\n",
       "British Virgin Islands        2\n",
       "Jersey                        1\n",
       "Norfolk Island                1\n",
       "Sint Maarten                  1\n",
       "Name: Nationality, Length: 240, dtype: int64"
      ]
     },
     "execution_count": 197,
     "metadata": {},
     "output_type": "execute_result"
    }
   ],
   "source": [
    "dataFrame['Nationality'].value_counts()"
   ]
  },
  {
   "cell_type": "code",
   "execution_count": 198,
   "metadata": {},
   "outputs": [
    {
     "data": {
      "text/plain": [
       "San Pedro Airport             43\n",
       "Santa Maria Airport           38\n",
       "Böblingen Flugfeld            36\n",
       "Santa Ana Airport             35\n",
       "San Fernando Airport          31\n",
       "                              ..\n",
       "Balıkesir Merkez Airport       2\n",
       "Arkalyk North Airport          2\n",
       "Juba International Airport     2\n",
       "Falcon State Airport           1\n",
       "Hiroshima Airport              1\n",
       "Name: Airport Name, Length: 9062, dtype: int64"
      ]
     },
     "execution_count": 198,
     "metadata": {},
     "output_type": "execute_result"
    }
   ],
   "source": [
    "dataFrame['Airport Name'].value_counts()"
   ]
  },
  {
   "cell_type": "code",
   "execution_count": 199,
   "metadata": {},
   "outputs": [
    {
     "data": {
      "text/plain": [
       "US    22104\n",
       "AU     6370\n",
       "CA     5424\n",
       "BR     4504\n",
       "PG     4081\n",
       "      ...  \n",
       "AD        7\n",
       "MC        7\n",
       "NR        7\n",
       "PW        5\n",
       "JE        4\n",
       "Name: Airport Country Code, Length: 235, dtype: int64"
      ]
     },
     "execution_count": 199,
     "metadata": {},
     "output_type": "execute_result"
    }
   ],
   "source": [
    "dataFrame['Airport Country Code'].value_counts()"
   ]
  },
  {
   "cell_type": "code",
   "execution_count": 200,
   "metadata": {},
   "outputs": [
    {
     "data": {
      "text/plain": [
       "United States       22104\n",
       "Australia            6370\n",
       "Canada               5424\n",
       "Brazil               4504\n",
       "Papua New Guinea     4081\n",
       "                    ...  \n",
       "Andorra                 7\n",
       "Monaco                  7\n",
       "Nauru                   7\n",
       "Palau                   5\n",
       "Jersey                  4\n",
       "Name: Country Name, Length: 235, dtype: int64"
      ]
     },
     "execution_count": 200,
     "metadata": {},
     "output_type": "execute_result"
    }
   ],
   "source": [
    "dataFrame['Country Name'].value_counts()"
   ]
  },
  {
   "cell_type": "code",
   "execution_count": 201,
   "metadata": {},
   "outputs": [
    {
     "data": {
      "text/plain": [
       "NAM    32033\n",
       "AS     18637\n",
       "OC     13866\n",
       "EU     12335\n",
       "AF     11030\n",
       "SAM    10718\n",
       "Name: Airport Continent, dtype: int64"
      ]
     },
     "execution_count": 201,
     "metadata": {},
     "output_type": "execute_result"
    }
   ],
   "source": [
    "dataFrame['Airport Continent'].value_counts()"
   ]
  },
  {
   "cell_type": "code",
   "execution_count": 202,
   "metadata": {},
   "outputs": [
    {
     "data": {
      "text/plain": [
       "North America    32033\n",
       "Asia             18637\n",
       "Oceania          13866\n",
       "Europe           12335\n",
       "Africa           11030\n",
       "South America    10718\n",
       "Name: Continents, dtype: int64"
      ]
     },
     "execution_count": 202,
     "metadata": {},
     "output_type": "execute_result"
    }
   ],
   "source": [
    "dataFrame['Continents'].value_counts()"
   ]
  },
  {
   "cell_type": "code",
   "execution_count": 203,
   "metadata": {},
   "outputs": [
    {
     "data": {
      "text/plain": [
       "7/22/2022     325\n",
       "5/26/2022     314\n",
       "10/16/2022    310\n",
       "8/15/2022     310\n",
       "11/25/2022    310\n",
       "             ... \n",
       "12/12/2022    233\n",
       "4/30/2022     233\n",
       "8/28/2022     232\n",
       "10/4/2022     231\n",
       "6/18/2022     224\n",
       "Name: Departure Date, Length: 364, dtype: int64"
      ]
     },
     "execution_count": 203,
     "metadata": {},
     "output_type": "execute_result"
    }
   ],
   "source": [
    "dataFrame['Departure Date'].value_counts()"
   ]
  },
  {
   "cell_type": "code",
   "execution_count": 204,
   "metadata": {},
   "outputs": [
    {
     "data": {
      "text/plain": [
       "0      873\n",
       "JNB     37\n",
       "PHM     36\n",
       "MPT     32\n",
       "PCO     27\n",
       "      ... \n",
       "CXM      2\n",
       "IPI      2\n",
       "BQU      2\n",
       "FAL      1\n",
       "HIJ      1\n",
       "Name: Arrival Airport, Length: 9024, dtype: int64"
      ]
     },
     "execution_count": 204,
     "metadata": {},
     "output_type": "execute_result"
    }
   ],
   "source": [
    "dataFrame['Arrival Airport'].value_counts()"
   ]
  },
  {
   "cell_type": "code",
   "execution_count": 205,
   "metadata": {},
   "outputs": [
    {
     "data": {
      "text/plain": [
       "Ertha Feldbaum         2\n",
       "Karyn Heersema         2\n",
       "Rance Evetts           2\n",
       "Ollie Sidle            2\n",
       "Damian Garnsey         2\n",
       "                      ..\n",
       "Charlton Bunson        1\n",
       "Claudianus Kamiyama    1\n",
       "Janifer Kennsley       1\n",
       "Kaja Lantry            1\n",
       "Wilhelmine Touret      1\n",
       "Name: Pilot Name, Length: 98610, dtype: int64"
      ]
     },
     "execution_count": 205,
     "metadata": {},
     "output_type": "execute_result"
    }
   ],
   "source": [
    "dataFrame['Pilot Name'].value_counts()"
   ]
  },
  {
   "cell_type": "code",
   "execution_count": 206,
   "metadata": {},
   "outputs": [
    {
     "data": {
      "text/plain": [
       "Cancelled    32942\n",
       "On Time      32846\n",
       "Delayed      32831\n",
       "Name: Flight Status, dtype: int64"
      ]
     },
     "execution_count": 206,
     "metadata": {},
     "output_type": "execute_result"
    }
   ],
   "source": [
    "dataFrame['Flight Status'].value_counts()"
   ]
  }
 ],
 "metadata": {
  "kernelspec": {
   "display_name": "Python 3",
   "language": "python",
   "name": "python3"
  },
  "language_info": {
   "codemirror_mode": {
    "name": "ipython",
    "version": 3
   },
   "file_extension": ".py",
   "mimetype": "text/x-python",
   "name": "python",
   "nbconvert_exporter": "python",
   "pygments_lexer": "ipython3",
   "version": "3.10.7"
  },
  "orig_nbformat": 4
 },
 "nbformat": 4,
 "nbformat_minor": 2
}
